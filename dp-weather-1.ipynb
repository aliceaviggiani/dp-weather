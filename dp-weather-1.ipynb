{
 "cells": [
  {
   "cell_type": "code",
   "execution_count": null,
   "id": "cd09c7c3",
   "metadata": {},
   "outputs": [],
   "source": [
    "# weather script\n",
    "# aug 4th\n",
    "\n",
    "# getting the code provided by the open meteo api"
   ]
  },
  {
   "cell_type": "code",
   "execution_count": 5,
   "id": "8a0c5d01",
   "metadata": {},
   "outputs": [
    {
     "name": "stdout",
     "output_type": "stream",
     "text": [
      "Collecting openmeteo-requests\n",
      "  Downloading openmeteo_requests-1.6.0-py3-none-any.whl.metadata (10 kB)\n",
      "Collecting niquests>=3.14.1 (from openmeteo-requests)\n",
      "  Downloading niquests-3.14.1-py3-none-any.whl.metadata (16 kB)\n",
      "Collecting openmeteo-sdk>=1.20.1 (from openmeteo-requests)\n",
      "  Downloading openmeteo_sdk-1.20.1-py3-none-any.whl.metadata (935 bytes)\n",
      "Requirement already satisfied: charset-normalizer<4,>=2 in /opt/anaconda3/lib/python3.12/site-packages (from niquests>=3.14.1->openmeteo-requests) (3.3.2)\n",
      "Collecting urllib3-future<3,>=2.12.900 (from niquests>=3.14.1->openmeteo-requests)\n",
      "  Downloading urllib3_future-2.13.901-py3-none-any.whl.metadata (15 kB)\n",
      "Collecting wassima<2,>=1.0.1 (from niquests>=3.14.1->openmeteo-requests)\n",
      "  Downloading wassima-1.2.2-cp37-abi3-macosx_10_12_x86_64.macosx_11_0_arm64.macosx_10_12_universal2.whl.metadata (6.7 kB)\n",
      "Collecting flatbuffers==25.2.10 (from openmeteo-sdk>=1.20.1->openmeteo-requests)\n",
      "  Downloading flatbuffers-25.2.10-py2.py3-none-any.whl.metadata (875 bytes)\n",
      "Requirement already satisfied: h11<1.0.0,>=0.11.0 in /opt/anaconda3/lib/python3.12/site-packages (from urllib3-future<3,>=2.12.900->niquests>=3.14.1->openmeteo-requests) (0.14.0)\n",
      "Collecting jh2<6.0.0,>=5.0.3 (from urllib3-future<3,>=2.12.900->niquests>=3.14.1->openmeteo-requests)\n",
      "  Downloading jh2-5.0.9-cp37-abi3-macosx_10_12_x86_64.macosx_11_0_arm64.macosx_10_12_universal2.whl.metadata (4.0 kB)\n",
      "Collecting qh3<2.0.0,>=1.5.3 (from urllib3-future<3,>=2.12.900->niquests>=3.14.1->openmeteo-requests)\n",
      "  Downloading qh3-1.5.3-cp37-abi3-macosx_10_12_x86_64.macosx_11_0_arm64.macosx_10_12_universal2.whl.metadata (4.7 kB)\n",
      "Downloading openmeteo_requests-1.6.0-py3-none-any.whl (6.6 kB)\n",
      "Downloading niquests-3.14.1-py3-none-any.whl (165 kB)\n",
      "Downloading openmeteo_sdk-1.20.1-py3-none-any.whl (15 kB)\n",
      "Downloading flatbuffers-25.2.10-py2.py3-none-any.whl (30 kB)\n",
      "Downloading urllib3_future-2.13.901-py3-none-any.whl (669 kB)\n",
      "\u001b[2K   \u001b[90m━━━━━━━━━━━━━━━━━━━━━━━━━━━━━━━━━━━━━━━━\u001b[0m \u001b[32m669.9/669.9 kB\u001b[0m \u001b[31m24.2 MB/s\u001b[0m eta \u001b[36m0:00:00\u001b[0m\n",
      "\u001b[?25hDownloading wassima-1.2.2-cp37-abi3-macosx_10_12_x86_64.macosx_11_0_arm64.macosx_10_12_universal2.whl (455 kB)\n",
      "Downloading jh2-5.0.9-cp37-abi3-macosx_10_12_x86_64.macosx_11_0_arm64.macosx_10_12_universal2.whl (635 kB)\n",
      "\u001b[2K   \u001b[90m━━━━━━━━━━━━━━━━━━━━━━━━━━━━━━━━━━━━━━━━\u001b[0m \u001b[32m635.6/635.6 kB\u001b[0m \u001b[31m35.4 MB/s\u001b[0m eta \u001b[36m0:00:00\u001b[0m\n",
      "\u001b[?25hDownloading qh3-1.5.3-cp37-abi3-macosx_10_12_x86_64.macosx_11_0_arm64.macosx_10_12_universal2.whl (4.5 MB)\n",
      "\u001b[2K   \u001b[90m━━━━━━━━━━━━━━━━━━━━━━━━━━━━━━━━━━━━━━━━\u001b[0m \u001b[32m4.5/4.5 MB\u001b[0m \u001b[31m53.7 MB/s\u001b[0m eta \u001b[36m0:00:00\u001b[0m\n",
      "\u001b[?25hInstalling collected packages: flatbuffers, wassima, qh3, openmeteo-sdk, jh2, urllib3-future, niquests, openmeteo-requests\n",
      "Successfully installed flatbuffers-25.2.10 jh2-5.0.9 niquests-3.14.1 openmeteo-requests-1.6.0 openmeteo-sdk-1.20.1 qh3-1.5.3 urllib3-future-2.13.901 wassima-1.2.2\n",
      "Collecting requests-cache\n",
      "  Downloading requests_cache-1.2.1-py3-none-any.whl.metadata (9.9 kB)\n",
      "Collecting retry-requests\n",
      "  Downloading retry_requests-2.0.0-py3-none-any.whl.metadata (2.6 kB)\n",
      "Requirement already satisfied: numpy in /opt/anaconda3/lib/python3.12/site-packages (2.0.1)\n",
      "Requirement already satisfied: pandas in /opt/anaconda3/lib/python3.12/site-packages (2.2.3)\n",
      "Requirement already satisfied: attrs>=21.2 in /opt/anaconda3/lib/python3.12/site-packages (from requests-cache) (23.1.0)\n",
      "Collecting cattrs>=22.2 (from requests-cache)\n",
      "  Downloading cattrs-25.1.1-py3-none-any.whl.metadata (8.4 kB)\n",
      "Requirement already satisfied: platformdirs>=2.5 in /opt/anaconda3/lib/python3.12/site-packages (from requests-cache) (3.10.0)\n",
      "Requirement already satisfied: requests>=2.22 in /opt/anaconda3/lib/python3.12/site-packages (from requests-cache) (2.32.3)\n",
      "Collecting url-normalize>=1.4 (from requests-cache)\n",
      "  Downloading url_normalize-2.2.1-py3-none-any.whl.metadata (5.6 kB)\n",
      "Requirement already satisfied: urllib3>=1.25.5 in /opt/anaconda3/lib/python3.12/site-packages (from requests-cache) (2.2.3)\n",
      "Requirement already satisfied: python-dateutil>=2.8.2 in /opt/anaconda3/lib/python3.12/site-packages (from pandas) (2.9.0.post0)\n",
      "Requirement already satisfied: pytz>=2020.1 in /opt/anaconda3/lib/python3.12/site-packages (from pandas) (2024.1)\n",
      "Requirement already satisfied: tzdata>=2022.7 in /opt/anaconda3/lib/python3.12/site-packages (from pandas) (2023.3)\n",
      "Collecting attrs>=21.2 (from requests-cache)\n",
      "  Downloading attrs-25.3.0-py3-none-any.whl.metadata (10 kB)\n",
      "Collecting typing-extensions>=4.12.2 (from cattrs>=22.2->requests-cache)\n",
      "  Downloading typing_extensions-4.14.1-py3-none-any.whl.metadata (3.0 kB)\n",
      "Requirement already satisfied: six>=1.5 in /opt/anaconda3/lib/python3.12/site-packages (from python-dateutil>=2.8.2->pandas) (1.16.0)\n",
      "Requirement already satisfied: charset-normalizer<4,>=2 in /opt/anaconda3/lib/python3.12/site-packages (from requests>=2.22->requests-cache) (3.3.2)\n",
      "Requirement already satisfied: idna<4,>=2.5 in /opt/anaconda3/lib/python3.12/site-packages (from requests>=2.22->requests-cache) (3.7)\n",
      "Requirement already satisfied: certifi>=2017.4.17 in /opt/anaconda3/lib/python3.12/site-packages (from requests>=2.22->requests-cache) (2025.6.15)\n",
      "Downloading requests_cache-1.2.1-py3-none-any.whl (61 kB)\n",
      "Downloading retry_requests-2.0.0-py3-none-any.whl (15 kB)\n",
      "Downloading cattrs-25.1.1-py3-none-any.whl (69 kB)\n",
      "Downloading attrs-25.3.0-py3-none-any.whl (63 kB)\n",
      "Downloading url_normalize-2.2.1-py3-none-any.whl (14 kB)\n",
      "Downloading typing_extensions-4.14.1-py3-none-any.whl (43 kB)\n",
      "Installing collected packages: url-normalize, typing-extensions, attrs, retry-requests, cattrs, requests-cache\n",
      "  Attempting uninstall: typing-extensions\n",
      "    Found existing installation: typing_extensions 4.11.0\n",
      "    Uninstalling typing_extensions-4.11.0:\n",
      "      Successfully uninstalled typing_extensions-4.11.0\n",
      "  Attempting uninstall: attrs\n",
      "    Found existing installation: attrs 23.1.0\n",
      "    Uninstalling attrs-23.1.0:\n",
      "      Successfully uninstalled attrs-23.1.0\n",
      "Successfully installed attrs-25.3.0 cattrs-25.1.1 requests-cache-1.2.1 retry-requests-2.0.0 typing-extensions-4.14.1 url-normalize-2.2.1\n"
     ]
    }
   ],
   "source": [
    "! pip install openmeteo-requests\n",
    "! pip install requests-cache retry-requests numpy pandas"
   ]
  },
  {
   "cell_type": "code",
   "execution_count": null,
   "id": "845e1fa1",
   "metadata": {},
   "outputs": [],
   "source": [
    "import openmeteo_requests\n",
    "\n",
    "import pandas as pd\n",
    "import requests_cache\n",
    "from retry_requests import retry\n",
    "from datetime import datetime\n"
   ]
  },
  {
   "cell_type": "code",
   "execution_count": null,
   "id": "0ef1edde",
   "metadata": {},
   "outputs": [],
   "source": [
    "# setup the api client with cache and retry on error\n",
    "\n",
    "cache_session = requests_cache.CachedSession('.cache', expire_after = 3600)\n",
    "retry_session = retry(cache_session, retries = 5, backoff_factor = 0.2)\n",
    "openmeteo = openmeteo_requests.Client(session = retry_session)\n"
   ]
  },
  {
   "cell_type": "code",
   "execution_count": 8,
   "id": "b7199f65",
   "metadata": {},
   "outputs": [],
   "source": [
    "# weather variables\n",
    "\n",
    "url = \"https://api.open-meteo.com/v1/forecast\"\n",
    "params = {\n",
    "\t\"latitude\": 40.74,\n",
    "\t\"longitude\": -73.89,\n",
    "\t\"daily\": [\"weather_code\", \"sunrise\", \"sunset\", \"daylight_duration\", \"sunshine_duration\", \"uv_index_max\", \"precipitation_sum\", \"precipitation_hours\", \"precipitation_probability_max\", \"apparent_temperature_max\", \"apparent_temperature_min\", \"temperature_2m_max\", \"temperature_2m_min\"],\n",
    "\t\"hourly\": [\"temperature_2m\", \"apparent_temperature\", \"precipitation\", \"cloud_cover\", \"visibility\", \"soil_temperature_0cm\", \"is_day\", \"sunshine_duration\"],\n",
    "\t\"current\": [\"temperature_2m\", \"apparent_temperature\", \"is_day\", \"precipitation\", \"weather_code\"],\n",
    "}\n",
    "responses = openmeteo.weather_api(url, params=params)\n"
   ]
  },
  {
   "cell_type": "code",
   "execution_count": 9,
   "id": "b7a2acb1",
   "metadata": {},
   "outputs": [
    {
     "data": {
      "text/plain": [
       "[<openmeteo_sdk.WeatherApiResponse.WeatherApiResponse at 0x16e1c29b0>]"
      ]
     },
     "execution_count": 9,
     "metadata": {},
     "output_type": "execute_result"
    }
   ],
   "source": [
    "responses"
   ]
  },
  {
   "cell_type": "code",
   "execution_count": 13,
   "id": "9a4e361f",
   "metadata": {},
   "outputs": [
    {
     "name": "stdout",
     "output_type": "stream",
     "text": [
      "Coordinates: 40.742000579833984°N -73.87183380126953°E\n",
      "Elevation: 26.0 m asl\n",
      "Timezone difference to GMT+0: 0s\n"
     ]
    }
   ],
   "source": [
    "# For one location\n",
    "\n",
    "response = responses[0]\n",
    "print(f\"Coordinates: {response.Latitude()}°N {response.Longitude()}°E\")\n",
    "print(f\"Elevation: {response.Elevation()} m asl\")\n",
    "print(f\"Timezone difference to GMT+0: {response.UtcOffsetSeconds()}s\")\n"
   ]
  },
  {
   "cell_type": "code",
   "execution_count": 24,
   "id": "12eab12a",
   "metadata": {},
   "outputs": [
    {
     "name": "stdout",
     "output_type": "stream",
     "text": [
      "Coordinates: 40.74°N -73.87°E\n",
      "\n",
      "Current time: 2025-08-04 19:15:00\n",
      "Current temperature_2m: 31.72\n",
      "Current apparent_temperature: 32.36\n",
      "Current is_day: 1.0\n",
      "Current precipitation: 0.0\n",
      "Current weather_code: 0.0\n"
     ]
    },
    {
     "name": "stderr",
     "output_type": "stream",
     "text": [
      "/var/folders/dz/qbfft_n92gx2ky_gxnc3q9_h0000gn/T/ipykernel_52414/504825277.py:12: DeprecationWarning: datetime.datetime.utcfromtimestamp() is deprecated and scheduled for removal in a future version. Use timezone-aware objects to represent datetimes in UTC: datetime.datetime.fromtimestamp(timestamp, datetime.UTC).\n",
      "  readable_time = datetime.utcfromtimestamp(timestamp)\n"
     ]
    }
   ],
   "source": [
    "# process current data\n",
    "# the order of variables needs to be the same as requested.\n",
    "\n",
    "current = response.Current()\n",
    "current_temperature_2m = current.Variables(0).Value()\n",
    "current_apparent_temperature = current.Variables(1).Value()\n",
    "current_is_day = current.Variables(2).Value()\n",
    "current_precipitation = current.Variables(3).Value()\n",
    "current_weather_code = current.Variables(4).Value()\n",
    "\n",
    "timestamp = current.Time()\n",
    "readable_time = datetime.utcfromtimestamp(timestamp)\n",
    "\n",
    "print(f\"Coordinates: {response.Latitude():.2f}°N {response.Longitude():.2f}°E\")\n",
    "print(f\"\\nCurrent time: {readable_time}\")\n",
    "print(f\"Current temperature_2m: {current_temperature_2m:.2f}\")\n",
    "print(f\"Current apparent_temperature: {current_apparent_temperature:.2f}\")\n",
    "print(f\"Current is_day: {current_is_day}\")\n",
    "print(f\"Current precipitation: {current_precipitation}\")\n",
    "print(f\"Current weather_code: {current_weather_code}\")\n"
   ]
  },
  {
   "cell_type": "code",
   "execution_count": null,
   "id": "f61df3d6",
   "metadata": {},
   "outputs": [],
   "source": []
  }
 ],
 "metadata": {
  "kernelspec": {
   "display_name": "base",
   "language": "python",
   "name": "python3"
  },
  "language_info": {
   "codemirror_mode": {
    "name": "ipython",
    "version": 3
   },
   "file_extension": ".py",
   "mimetype": "text/x-python",
   "name": "python",
   "nbconvert_exporter": "python",
   "pygments_lexer": "ipython3",
   "version": "3.12.2"
  }
 },
 "nbformat": 4,
 "nbformat_minor": 5
}
